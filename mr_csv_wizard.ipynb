{
 "cells": [
  {
   "cell_type": "code",
   "execution_count": 1,
   "id": "ed11dd6f-b5e9-4eed-a23c-b5e786c1fac1",
   "metadata": {},
   "outputs": [],
   "source": [
    "# from fiverr_ds_bq_utils.bq_handler import BqHandler"
   ]
  },
  {
   "cell_type": "code",
   "execution_count": 2,
   "id": "a0c6bd80-cc1e-424c-9abe-ed9a70646d07",
   "metadata": {
    "scrolled": true
   },
   "outputs": [],
   "source": [
    "# pip install openai\n",
    "# !pip install --upgrade openai\n",
    "# !pip install openai==0.28\n",
    "# !pip uninstall openai\n",
    "# !pip install openai\n"
   ]
  },
  {
   "cell_type": "code",
   "execution_count": null,
   "id": "0e9a4eb5-00ee-44fc-8ef4-a64846b5a348",
   "metadata": {},
   "outputs": [],
   "source": []
  },
  {
   "cell_type": "code",
   "execution_count": 1,
   "id": "f853b813-d44f-44ca-b319-124b3b4dee9b",
   "metadata": {},
   "outputs": [],
   "source": [
    "import yaml\n",
    "# import openai\n",
    "import json\n",
    "import time\n",
    "import datetime\n",
    "from tqdm import tqdm\n",
    "import numpy as np\n",
    "import pandas as pd\n",
    "from time import sleep\n",
    "from pathlib import Path\n",
    "from typing import Dict, List, Union, Any\n",
    "from concurrent.futures import ThreadPoolExecutor\n",
    "import warnings\n",
    "import re\n",
    "warnings.filterwarnings(\"ignore\")\n",
    "pd.set_option('display.max_columns', None)\n",
    "\n",
    "# Wrapped imports that may fail in Voila\n",
    "try:\n",
    "    from fiverr_ds_bq_utils.bq_handler import BqHandler\n",
    "    from fiverr_ds_bq_utils.logger import Logger\n",
    "except ImportError:\n",
    "    BqHandler = None\n",
    "    Logger = None\n"
   ]
  },
  {
   "cell_type": "code",
   "execution_count": 47,
   "id": "a1b3f38e-b868-422e-a590-f5db4edf56fe",
   "metadata": {},
   "outputs": [],
   "source": [
    "import pandas as pd\n",
    "import io\n",
    "from IPython.display import display\n",
    "from ipywidgets import FileUpload\n"
   ]
  },
  {
   "cell_type": "code",
   "execution_count": 48,
   "id": "05e31fc4-17a1-4bee-9798-f2b4c7e684b0",
   "metadata": {},
   "outputs": [
    {
     "data": {
      "application/vnd.jupyter.widget-view+json": {
       "model_id": "be3049a2b48d48e2896749d99ce97093",
       "version_major": 2,
       "version_minor": 0
      },
      "text/plain": [
       "FileUpload(value=(), accept='.csv', description='Upload', multiple=True)"
      ]
     },
     "metadata": {},
     "output_type": "display_data"
    }
   ],
   "source": [
    "# Create uploader widget\n",
    "uploader = FileUpload(accept='.csv', multiple=True)\n",
    "display(uploader)"
   ]
  },
  {
   "cell_type": "code",
   "execution_count": 49,
   "id": "e583ae3f-5074-4a39-b2f3-b0d6d881ce69",
   "metadata": {},
   "outputs": [
    {
     "data": {
      "text/html": [
       "<div>\n",
       "<style scoped>\n",
       "    .dataframe tbody tr th:only-of-type {\n",
       "        vertical-align: middle;\n",
       "    }\n",
       "\n",
       "    .dataframe tbody tr th {\n",
       "        vertical-align: top;\n",
       "    }\n",
       "\n",
       "    .dataframe thead th {\n",
       "        text-align: right;\n",
       "    }\n",
       "</style>\n",
       "<table border=\"1\" class=\"dataframe\">\n",
       "  <thead>\n",
       "    <tr style=\"text-align: right;\">\n",
       "      <th></th>\n",
       "      <th>user_id</th>\n",
       "      <th>user_type</th>\n",
       "      <th>user_country</th>\n",
       "      <th>is_blocked_user</th>\n",
       "      <th>is_restricted_user</th>\n",
       "      <th>email</th>\n",
       "      <th>raffle_county_status</th>\n",
       "    </tr>\n",
       "  </thead>\n",
       "  <tbody>\n",
       "    <tr>\n",
       "      <th>0</th>\n",
       "      <td>72656550</td>\n",
       "      <td>buyer</td>\n",
       "      <td>United States</td>\n",
       "      <td>False</td>\n",
       "      <td>False</td>\n",
       "      <td>aaaabbee@gmail.com</td>\n",
       "      <td>raffle_country</td>\n",
       "    </tr>\n",
       "    <tr>\n",
       "      <th>1</th>\n",
       "      <td>24925538</td>\n",
       "      <td>buyer</td>\n",
       "      <td>Canada</td>\n",
       "      <td>False</td>\n",
       "      <td>False</td>\n",
       "      <td>isg111@yahoo.com</td>\n",
       "      <td>raffle_country</td>\n",
       "    </tr>\n",
       "    <tr>\n",
       "      <th>2</th>\n",
       "      <td>73605048</td>\n",
       "      <td>buyer</td>\n",
       "      <td>Benin</td>\n",
       "      <td>False</td>\n",
       "      <td>False</td>\n",
       "      <td>romeo.adjovi@gmail.com</td>\n",
       "      <td>raffle_country</td>\n",
       "    </tr>\n",
       "    <tr>\n",
       "      <th>3</th>\n",
       "      <td>96268567</td>\n",
       "      <td>buyer</td>\n",
       "      <td>United States</td>\n",
       "      <td>False</td>\n",
       "      <td>False</td>\n",
       "      <td>ericaa.mccoy1024@gmail.com</td>\n",
       "      <td>raffle_country</td>\n",
       "    </tr>\n",
       "    <tr>\n",
       "      <th>4</th>\n",
       "      <td>161091323</td>\n",
       "      <td>buyer</td>\n",
       "      <td>United States</td>\n",
       "      <td>False</td>\n",
       "      <td>False</td>\n",
       "      <td>lanalukatsky@gmail.com</td>\n",
       "      <td>raffle_country</td>\n",
       "    </tr>\n",
       "  </tbody>\n",
       "</table>\n",
       "</div>"
      ],
      "text/plain": [
       "     user_id user_type   user_country  is_blocked_user  is_restricted_user  \\\n",
       "0   72656550     buyer  United States            False               False   \n",
       "1   24925538     buyer         Canada            False               False   \n",
       "2   73605048     buyer          Benin            False               False   \n",
       "3   96268567     buyer  United States            False               False   \n",
       "4  161091323     buyer  United States            False               False   \n",
       "\n",
       "                        email raffle_county_status  \n",
       "0          aaaabbee@gmail.com       raffle_country  \n",
       "1            isg111@yahoo.com       raffle_country  \n",
       "2      romeo.adjovi@gmail.com       raffle_country  \n",
       "3  ericaa.mccoy1024@gmail.com       raffle_country  \n",
       "4      lanalukatsky@gmail.com       raffle_country  "
      ]
     },
     "execution_count": 49,
     "metadata": {},
     "output_type": "execute_result"
    }
   ],
   "source": [
    "# Read and bind the uploaded CSV files\n",
    "dfs = []\n",
    "\n",
    "for file in uploader.value:\n",
    "    content = file['content']\n",
    "    df = pd.read_csv(io.BytesIO(content))\n",
    "    dfs.append(df)\n",
    "\n",
    "# Combine all into one DataFrame\n",
    "combined_df = pd.concat(dfs, ignore_index=True)\n",
    "\n",
    "# Show the first few rows\n",
    "combined_df.head()\n",
    "\n"
   ]
  },
  {
   "cell_type": "code",
   "execution_count": 40,
   "id": "fa8ebffa-d01e-44eb-b8d3-8bbbc9a1d545",
   "metadata": {},
   "outputs": [
    {
     "data": {
      "text/html": [
       "<a href='combined_output.csv' target='_blank'>combined_output.csv</a><br>"
      ],
      "text/plain": [
       "/Users/noam.keshet/combined_output.csv"
      ]
     },
     "metadata": {},
     "output_type": "display_data"
    }
   ],
   "source": [
    "import os\n",
    "from IPython.display import FileLink\n",
    "\n",
    "# Save combined DataFrame to a CSV file\n",
    "output_path = \"combined_output.csv\"\n",
    "combined_df.to_csv(output_path, index=False)\n",
    "\n",
    "# Show a download link\n",
    "display(FileLink(output_path))\n"
   ]
  },
  {
   "cell_type": "code",
   "execution_count": null,
   "id": "3b4ff3f4-d25e-481d-89da-92fce8d5a225",
   "metadata": {},
   "outputs": [],
   "source": []
  },
  {
   "cell_type": "code",
   "execution_count": 50,
   "id": "efd77cac-3e5a-498c-a268-5a48a28ae902",
   "metadata": {},
   "outputs": [
    {
     "data": {
      "text/plain": [
       "100000"
      ]
     },
     "execution_count": 50,
     "metadata": {},
     "output_type": "execute_result"
    }
   ],
   "source": [
    "\n",
    "df = combined_df#[['user_id']]\n",
    "df.shape[0]\n"
   ]
  },
  {
   "cell_type": "code",
   "execution_count": 51,
   "id": "39b21a58-7e6d-4fd8-9134-6ae3dbcb30be",
   "metadata": {},
   "outputs": [
    {
     "data": {
      "text/html": [
       "<div>\n",
       "<style scoped>\n",
       "    .dataframe tbody tr th:only-of-type {\n",
       "        vertical-align: middle;\n",
       "    }\n",
       "\n",
       "    .dataframe tbody tr th {\n",
       "        vertical-align: top;\n",
       "    }\n",
       "\n",
       "    .dataframe thead th {\n",
       "        text-align: right;\n",
       "    }\n",
       "</style>\n",
       "<table border=\"1\" class=\"dataframe\">\n",
       "  <thead>\n",
       "    <tr style=\"text-align: right;\">\n",
       "      <th></th>\n",
       "      <th>user_id</th>\n",
       "      <th>user_type</th>\n",
       "      <th>user_country</th>\n",
       "      <th>is_blocked_user</th>\n",
       "      <th>is_restricted_user</th>\n",
       "      <th>email</th>\n",
       "      <th>raffle_county_status</th>\n",
       "    </tr>\n",
       "  </thead>\n",
       "  <tbody>\n",
       "    <tr>\n",
       "      <th>0</th>\n",
       "      <td>72656550</td>\n",
       "      <td>buyer</td>\n",
       "      <td>United States</td>\n",
       "      <td>False</td>\n",
       "      <td>False</td>\n",
       "      <td>aaaabbee@gmail.com</td>\n",
       "      <td>raffle_country</td>\n",
       "    </tr>\n",
       "    <tr>\n",
       "      <th>1</th>\n",
       "      <td>24925538</td>\n",
       "      <td>buyer</td>\n",
       "      <td>Canada</td>\n",
       "      <td>False</td>\n",
       "      <td>False</td>\n",
       "      <td>isg111@yahoo.com</td>\n",
       "      <td>raffle_country</td>\n",
       "    </tr>\n",
       "    <tr>\n",
       "      <th>2</th>\n",
       "      <td>73605048</td>\n",
       "      <td>buyer</td>\n",
       "      <td>Benin</td>\n",
       "      <td>False</td>\n",
       "      <td>False</td>\n",
       "      <td>romeo.adjovi@gmail.com</td>\n",
       "      <td>raffle_country</td>\n",
       "    </tr>\n",
       "    <tr>\n",
       "      <th>3</th>\n",
       "      <td>96268567</td>\n",
       "      <td>buyer</td>\n",
       "      <td>United States</td>\n",
       "      <td>False</td>\n",
       "      <td>False</td>\n",
       "      <td>ericaa.mccoy1024@gmail.com</td>\n",
       "      <td>raffle_country</td>\n",
       "    </tr>\n",
       "    <tr>\n",
       "      <th>4</th>\n",
       "      <td>161091323</td>\n",
       "      <td>buyer</td>\n",
       "      <td>United States</td>\n",
       "      <td>False</td>\n",
       "      <td>False</td>\n",
       "      <td>lanalukatsky@gmail.com</td>\n",
       "      <td>raffle_country</td>\n",
       "    </tr>\n",
       "  </tbody>\n",
       "</table>\n",
       "</div>"
      ],
      "text/plain": [
       "     user_id user_type   user_country  is_blocked_user  is_restricted_user  \\\n",
       "0   72656550     buyer  United States            False               False   \n",
       "1   24925538     buyer         Canada            False               False   \n",
       "2   73605048     buyer          Benin            False               False   \n",
       "3   96268567     buyer  United States            False               False   \n",
       "4  161091323     buyer  United States            False               False   \n",
       "\n",
       "                        email raffle_county_status  \n",
       "0          aaaabbee@gmail.com       raffle_country  \n",
       "1            isg111@yahoo.com       raffle_country  \n",
       "2      romeo.adjovi@gmail.com       raffle_country  \n",
       "3  ericaa.mccoy1024@gmail.com       raffle_country  \n",
       "4      lanalukatsky@gmail.com       raffle_country  "
      ]
     },
     "execution_count": 51,
     "metadata": {},
     "output_type": "execute_result"
    }
   ],
   "source": [
    "df.head()"
   ]
  },
  {
   "cell_type": "code",
   "execution_count": 52,
   "id": "ab155d82-8e4b-44b6-94d3-f3b4f4a1299b",
   "metadata": {},
   "outputs": [
    {
     "name": "stdout",
     "output_type": "stream",
     "text": [
      "user_id\n",
      "user_type\n",
      "user_country\n",
      "is_blocked_user\n",
      "is_restricted_user\n",
      "email\n",
      "raffle_county_status\n"
     ]
    }
   ],
   "source": [
    "\n",
    "\n",
    "# Get the list of column names\n",
    "column_names_list = df.columns.tolist()\n",
    "\n",
    "# Loop through the list and print each column name on a new line\n",
    "for col_name in column_names_list: # <-- Added a colon here!\n",
    "    print(col_name)"
   ]
  },
  {
   "cell_type": "code",
   "execution_count": 53,
   "id": "67fe6aac-e81d-447a-a43c-0ead7e5ef9e3",
   "metadata": {
    "scrolled": true
   },
   "outputs": [
    {
     "data": {
      "application/vnd.jupyter.widget-view+json": {
       "model_id": "f6c6c86c7be34acba4dea829396c9b2f",
       "version_major": 2,
       "version_minor": 0
      },
      "text/plain": [
       "Text(value='', description='Column:', placeholder='e.g., product_category, price, customer_rating')"
      ]
     },
     "metadata": {},
     "output_type": "display_data"
    },
    {
     "data": {
      "application/vnd.jupyter.widget-view+json": {
       "model_id": "579c56cbe42142d5ae1a052818531921",
       "version_major": 2,
       "version_minor": 0
      },
      "text/plain": [
       "Output()"
      ]
     },
     "metadata": {},
     "output_type": "display_data"
    }
   ],
   "source": [
    "import pandas as pd\n",
    "import ipywidgets as widgets\n",
    "from IPython.display import display, clear_output\n",
    "\n",
    "# --- 1. Prepare your DataFrame (df) ---\n",
    "# IMPORTANT: Replace this sample DataFrame with your actual DataFrame loading.\n",
    "\n",
    "df = df\n",
    "\n",
    "# --- 2. Create Interactive Widgets ---\n",
    "# Input for column name\n",
    "column_input = widgets.Text(\n",
    "    value='',\n",
    "    placeholder='e.g., product_category, price, customer_rating',\n",
    "    description='Column:',\n",
    "    disabled=False\n",
    ")\n",
    "\n",
    "# Output area for results\n",
    "output_area = widgets.Output()\n",
    "\n",
    "# Button for saving to CSV\n",
    "save_button = widgets.Button(\n",
    "    description='Save to CSV',\n",
    "    disabled=False,\n",
    "    button_style='info', # 'success', 'info', 'warning', 'danger' or ''\n",
    "    tooltip='Click to save analysis results to a CSV file',\n",
    "    icon='file-csv' # (FontAwesome names without the fa- prefix)\n",
    ")\n",
    "\n",
    "# --- 3. Define the Analysis Function ---\n",
    "def show_column_stats(change):\n",
    "    global current_analysis_df # Declare as global to be accessible by save_button_clicked\n",
    "\n",
    "    with output_area:\n",
    "        clear_output()\n",
    "\n",
    "        col = change['new']\n",
    "        if col in df.columns:\n",
    "            print(f\"Analyzing column: '{col}'\")\n",
    "\n",
    "            # Calculate value counts and reset index\n",
    "            temp_value_counts = df[col].value_counts().reset_index()\n",
    "            temp_value_counts.columns = ['Value', 'Count']\n",
    "            value_counts_df = temp_value_counts\n",
    "\n",
    "            # Convert 'Count' column to integer type\n",
    "            value_counts_df['Count'] = value_counts_df['Count'].astype(int)\n",
    "\n",
    "            # Calculate the percentage\n",
    "            value_counts_df['Percentage'] = (value_counts_df['Count'] / value_counts_df['Count'].sum()) * 100\n",
    "\n",
    "            # --- Add Total Row ---\n",
    "            total_count = value_counts_df['Count'].sum()\n",
    "            total_percentage = value_counts_df['Percentage'].sum() # Should be close to 100\n",
    "\n",
    "            total_row = pd.DataFrame([['Total', total_count, total_percentage]],\n",
    "                                     columns=['Value', 'Count', 'Percentage'])\n",
    "            combined_df = pd.concat([value_counts_df, total_row], ignore_index=True)\n",
    "            # --- End Total Row ---\n",
    "\n",
    "            # Store the combined_df globally so the save button can access it\n",
    "            current_analysis_df = combined_df.round(2) # Round for cleaner CSV as well\n",
    "\n",
    "            print(\"\\n--- Value Counts & Percentages ---\")\n",
    "            display(current_analysis_df) # Display the combined table\n",
    "\n",
    "            # Display the save button\n",
    "            display(save_button)\n",
    "\n",
    "        else:\n",
    "            print(f\"Error: Column '{col}' does not exist in your DataFrame.\")\n",
    "            print(\"Available columns are:\", df.columns.tolist())\n",
    "            # Hide the save button if column doesn't exist\n",
    "            save_button.layout.visibility = 'hidden'\n",
    "\n",
    "# --- 4. Define CSV Export Function ---\n",
    "def save_button_clicked(b):\n",
    "    with output_area:\n",
    "        clear_output() # Clear previous output to show saving message\n",
    "        if 'current_analysis_df' in globals() and not current_analysis_df.empty:\n",
    "            file_name = f\"column_analysis_{column_input.value}.csv\"\n",
    "            try:\n",
    "                current_analysis_df.to_csv(file_name, index=False, encoding='utf-8-sig') # utf-8-sig for Hebrew support in Excel\n",
    "                print(f\"Analysis saved successfully to '{file_name}'\")\n",
    "            except Exception as e:\n",
    "                print(f\"Error saving file: {e}\")\n",
    "        else:\n",
    "            print(\"No analysis data available to save. Please select a column first.\")\n",
    "\n",
    "# --- 5. Link Widgets to Functions and Display ---\n",
    "# Attach the analysis function to the column input\n",
    "column_input.observe(show_column_stats, names='value')\n",
    "\n",
    "# Attach the save function to the save button\n",
    "save_button.on_click(save_button_clicked)\n",
    "\n",
    "# Set initial visibility of the save button to hidden until an analysis is performed\n",
    "save_button.layout.visibility = 'hidden'\n",
    "\n",
    "# Display the input box, the output area, and the save button initially\n",
    "display(column_input, output_area)"
   ]
  }
 ],
 "metadata": {
  "kernelspec": {
   "display_name": "Python 3 (ipykernel)",
   "language": "python",
   "name": "python3"
  },
  "language_info": {
   "codemirror_mode": {
    "name": "ipython",
    "version": 3
   },
   "file_extension": ".py",
   "mimetype": "text/x-python",
   "name": "python",
   "nbconvert_exporter": "python",
   "pygments_lexer": "ipython3",
   "version": "3.10.16"
  }
 },
 "nbformat": 4,
 "nbformat_minor": 5
}
