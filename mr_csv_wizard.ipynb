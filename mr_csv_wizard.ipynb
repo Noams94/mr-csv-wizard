{
 "cells": [
  {
   "cell_type": "code",
   "execution_count": null,
   "id": "ed11dd6f-b5e9-4eed-a23c-b5e786c1fac1",
   "metadata": {},
   "outputs": [],
   "source": [
    "# from fiverr_ds_bq_utils.bq_handler import BqHandler"
   ]
  },
  {
   "cell_type": "code",
   "execution_count": null,
   "id": "a0c6bd80-cc1e-424c-9abe-ed9a70646d07",
   "metadata": {
    "scrolled": true
   },
   "outputs": [],
   "source": [
    "# pip install openai\n",
    "# !pip install --upgrade openai\n",
    "# !pip install openai==0.28\n",
    "# !pip uninstall openai\n",
    "# !pip install openai\n"
   ]
  },
  {
   "cell_type": "code",
   "execution_count": null,
   "id": "0e9a4eb5-00ee-44fc-8ef4-a64846b5a348",
   "metadata": {},
   "outputs": [],
   "source": []
  },
  {
   "cell_type": "code",
   "execution_count": null,
   "id": "f853b813-d44f-44ca-b319-124b3b4dee9b",
   "metadata": {},
   "outputs": [],
   "source": [
    "import yaml\n",
    "# import openai\n",
    "import json\n",
    "import time\n",
    "import datetime\n",
    "from tqdm import tqdm\n",
    "import numpy as np\n",
    "import pandas as pd\n",
    "from time import sleep\n",
    "from pathlib import Path\n",
    "from typing import Dict, List, Union, Any\n",
    "from concurrent.futures import ThreadPoolExecutor\n",
    "#from fiverr_ds_bq_utils.bq_handler import BqHandler\n",
    "#from fiverr_ds_bq_utils.logger import Logger\n",
    "import warnings\n",
    "import re\n",
    "warnings.filterwarnings(\"ignore\") # This line uses the warnings module to ignore warnings (such as deprecated functions).\n",
    "pd.set_option('display.max_columns', None) # Ensures that when displaying a Pandas DataFrame, all columns are shown (instead of being truncated)."
   ]
  },
  {
   "cell_type": "code",
   "execution_count": null,
   "id": "a1b3f38e-b868-422e-a590-f5db4edf56fe",
   "metadata": {},
   "outputs": [],
   "source": [
    "import pandas as pd\n",
    "import io\n",
    "from IPython.display import display\n",
    "from ipywidgets import FileUpload\n"
   ]
  },
  {
   "cell_type": "code",
   "execution_count": null,
   "id": "05e31fc4-17a1-4bee-9798-f2b4c7e684b0",
   "metadata": {},
   "outputs": [],
   "source": [
    "# Create uploader widget\n",
    "uploader = FileUpload(accept='.csv', multiple=True)\n",
    "display(uploader)"
   ]
  },
  {
   "cell_type": "code",
   "execution_count": null,
   "id": "e583ae3f-5074-4a39-b2f3-b0d6d881ce69",
   "metadata": {},
   "outputs": [],
   "source": [
    "# Read and bind the uploaded CSV files\n",
    "dfs = []\n",
    "\n",
    "for file in uploader.value:\n",
    "    content = file['content']\n",
    "    df = pd.read_csv(io.BytesIO(content))\n",
    "    dfs.append(df)\n",
    "\n",
    "# Combine all into one DataFrame\n",
    "combined_df = pd.concat(dfs, ignore_index=True)\n",
    "\n",
    "# Show the first few rows\n",
    "combined_df.head()\n",
    "\n"
   ]
  },
  {
   "cell_type": "code",
   "execution_count": null,
   "id": "fa8ebffa-d01e-44eb-b8d3-8bbbc9a1d545",
   "metadata": {},
   "outputs": [],
   "source": [
    "# import os\n",
    "# from IPython.display import FileLink\n",
    "\n",
    "# # Save combined DataFrame to a CSV file\n",
    "# output_path = \"combined_output.csv\"\n",
    "# combined_df.to_csv(output_path, index=False)\n",
    "\n",
    "# # Show a download link\n",
    "# display(FileLink(output_path))\n"
   ]
  },
  {
   "cell_type": "code",
   "execution_count": null,
   "id": "efd77cac-3e5a-498c-a268-5a48a28ae902",
   "metadata": {},
   "outputs": [],
   "source": [
    "\n",
    "df = combined_df#[['user_id']]\n",
    "df.shape[0]\n"
   ]
  },
  {
   "cell_type": "code",
   "execution_count": null,
   "id": "39b21a58-7e6d-4fd8-9134-6ae3dbcb30be",
   "metadata": {},
   "outputs": [],
   "source": [
    "df.head()"
   ]
  },
  {
   "cell_type": "code",
   "execution_count": null,
   "id": "ab155d82-8e4b-44b6-94d3-f3b4f4a1299b",
   "metadata": {},
   "outputs": [],
   "source": [
    "\n",
    "\n",
    "# Get the list of column names\n",
    "column_names_list = df.columns.tolist()\n",
    "\n",
    "# Loop through the list and print each column name on a new line\n",
    "for col_name in column_names_list: # <-- Added a colon here!\n",
    "    print(col_name)"
   ]
  },
  {
   "cell_type": "code",
   "execution_count": null,
   "id": "67fe6aac-e81d-447a-a43c-0ead7e5ef9e3",
   "metadata": {
    "scrolled": true
   },
   "outputs": [],
   "source": [
    "import pandas as pd\n",
    "import ipywidgets as widgets\n",
    "from IPython.display import display, clear_output\n",
    "\n",
    "# --- 1. Prepare your DataFrame (df) ---\n",
    "# IMPORTANT: Replace this sample DataFrame with your actual DataFrame loading.\n",
    "\n",
    "df = df\n",
    "\n",
    "# --- 2. Create Interactive Widgets ---\n",
    "# Input for column name\n",
    "column_input = widgets.Text(\n",
    "    value='',\n",
    "    placeholder='e.g., product_category, price, customer_rating',\n",
    "    description='Column:',\n",
    "    disabled=False\n",
    ")\n",
    "\n",
    "# Output area for results\n",
    "output_area = widgets.Output()\n",
    "\n",
    "# Button for saving to CSV\n",
    "save_button = widgets.Button(\n",
    "    description='Save to CSV',\n",
    "    disabled=False,\n",
    "    button_style='info', # 'success', 'info', 'warning', 'danger' or ''\n",
    "    tooltip='Click to save analysis results to a CSV file',\n",
    "    icon='file-csv' # (FontAwesome names without the fa- prefix)\n",
    ")\n",
    "\n",
    "# --- 3. Define the Analysis Function ---\n",
    "def show_column_stats(change):\n",
    "    global current_analysis_df # Declare as global to be accessible by save_button_clicked\n",
    "\n",
    "    with output_area:\n",
    "        clear_output()\n",
    "\n",
    "        col = change['new']\n",
    "        if col in df.columns:\n",
    "            print(f\"Analyzing column: '{col}'\")\n",
    "\n",
    "            # Calculate value counts and reset index\n",
    "            temp_value_counts = df[col].value_counts().reset_index()\n",
    "            temp_value_counts.columns = ['Value', 'Count']\n",
    "            value_counts_df = temp_value_counts\n",
    "\n",
    "            # Convert 'Count' column to integer type\n",
    "            value_counts_df['Count'] = value_counts_df['Count'].astype(int)\n",
    "\n",
    "            # Calculate the percentage\n",
    "            value_counts_df['Percentage'] = (value_counts_df['Count'] / value_counts_df['Count'].sum()) * 100\n",
    "\n",
    "            # --- Add Total Row ---\n",
    "            total_count = value_counts_df['Count'].sum()\n",
    "            total_percentage = value_counts_df['Percentage'].sum() # Should be close to 100\n",
    "\n",
    "            total_row = pd.DataFrame([['Total', total_count, total_percentage]],\n",
    "                                     columns=['Value', 'Count', 'Percentage'])\n",
    "            combined_df = pd.concat([value_counts_df, total_row], ignore_index=True)\n",
    "            # --- End Total Row ---\n",
    "\n",
    "            # Store the combined_df globally so the save button can access it\n",
    "            current_analysis_df = combined_df.round(2) # Round for cleaner CSV as well\n",
    "\n",
    "            print(\"\\n--- Value Counts & Percentages ---\")\n",
    "            display(current_analysis_df) # Display the combined table\n",
    "\n",
    "            # Display the save button\n",
    "            display(save_button)\n",
    "\n",
    "        else:\n",
    "            print(f\"Error: Column '{col}' does not exist in your DataFrame.\")\n",
    "            print(\"Available columns are:\", df.columns.tolist())\n",
    "            # Hide the save button if column doesn't exist\n",
    "            save_button.layout.visibility = 'hidden'\n",
    "\n",
    "# --- 4. Define CSV Export Function ---\n",
    "def save_button_clicked(b):\n",
    "    with output_area:\n",
    "        clear_output() # Clear previous output to show saving message\n",
    "        if 'current_analysis_df' in globals() and not current_analysis_df.empty:\n",
    "            file_name = f\"column_analysis_{column_input.value}.csv\"\n",
    "            try:\n",
    "                current_analysis_df.to_csv(file_name, index=False, encoding='utf-8-sig') # utf-8-sig for Hebrew support in Excel\n",
    "                print(f\"Analysis saved successfully to '{file_name}'\")\n",
    "            except Exception as e:\n",
    "                print(f\"Error saving file: {e}\")\n",
    "        else:\n",
    "            print(\"No analysis data available to save. Please select a column first.\")\n",
    "\n",
    "# --- 5. Link Widgets to Functions and Display ---\n",
    "# Attach the analysis function to the column input\n",
    "column_input.observe(show_column_stats, names='value')\n",
    "\n",
    "# Attach the save function to the save button\n",
    "save_button.on_click(save_button_clicked)\n",
    "\n",
    "# Set initial visibility of the save button to hidden until an analysis is performed\n",
    "save_button.layout.visibility = 'hidden'\n",
    "\n",
    "# Display the input box, the output area, and the save button initially\n",
    "display(column_input, output_area)"
   ]
  },
  {
   "cell_type": "code",
   "execution_count": null,
   "id": "93f48605-bec8-4a6e-8dfb-5cc242a423d0",
   "metadata": {},
   "outputs": [],
   "source": [
    "# from nbconvert import HTMLExporter\n",
    "# import nbformat\n",
    "\n",
    "# # Load the uploaded notebook\n",
    "# notebook_path = \"/Users/noam.keshet/mr_csv_wizard.ipynb\"\n",
    "# with open(notebook_path, \"r\", encoding=\"utf-8\") as f:\n",
    "#     notebook = nbformat.read(f, as_version=4)\n",
    "\n",
    "# # Export the notebook to HTML (we'll strip code separately if needed)\n",
    "# html_exporter = HTMLExporter()\n",
    "# html_exporter.exclude_input = True  # Exclude code cells\n",
    "# (html_body, resources) = html_exporter.from_notebook_node(notebook)\n",
    "\n",
    "# # Save the HTML output to a file\n",
    "# output_path = \"/Users/noam.keshet/mr_csv_wizard.html\"\n",
    "# with open(output_path, \"w\", encoding=\"utf-8\") as f:\n",
    "#     f.write(html_body)\n",
    "\n",
    "# output_path\n"
   ]
  }
 ],
 "metadata": {
  "kernelspec": {
   "display_name": "Python 3 (ipykernel)",
   "language": "python",
   "name": "python3"
  },
  "language_info": {
   "codemirror_mode": {
    "name": "ipython",
    "version": 3
   },
   "file_extension": ".py",
   "mimetype": "text/x-python",
   "name": "python",
   "nbconvert_exporter": "python",
   "pygments_lexer": "ipython3",
   "version": "3.10.16"
  }
 },
 "nbformat": 4,
 "nbformat_minor": 5
}
